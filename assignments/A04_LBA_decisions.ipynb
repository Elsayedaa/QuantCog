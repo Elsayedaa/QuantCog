{
 "cells": [
  {
   "cell_type": "markdown",
   "metadata": {},
   "source": [
    "# Assignment 4: LBA Decisions\n",
    "## Quantified Cognition\n",
    "### Psychology 5332\n"
   ]
  },
  {
   "cell_type": "markdown",
   "metadata": {},
   "source": [
    "# Name: *Your Name Here*\n",
    "# User ID: *Your ID Here*"
   ]
  },
  {
   "cell_type": "markdown",
   "metadata": {},
   "source": [
    "# Objectives\n",
    "\n",
    "Upon completion of this assignment, the student will demonstrate the ability to:\n",
    "\n",
    "1. Simulate two models testing alternative hypotheses\n",
    "2. Compare the fit for the two models\n",
    "3. Evaluate and interpret the fit results\n"
   ]
  },
  {
   "cell_type": "markdown",
   "metadata": {},
   "source": [
    "# Assignment\n",
    "\n",
    "- The goal of this assignment is to analyze the choice--reaction time data from the perceptual decision-making task with a speed--accuracy trade-off. We want to explore potential mechanisms for how cognitive processing changes between the Speed vs. Accuracy conditions. \n",
    "\n",
    "- We will instantiate variants of the linear ballistic accumulator (LBA) that allow different parameters to vary between conditions. This allows us to test hypotheses about what aspects of the model change between conditions, while other aspects of the model remain the same. \n",
    "\n",
    "- You will perform this assignment by writing code in *this notebook* (***after making a copy and renaming it to have your userid in the title --- e.g., A04_LBA_decisions_mst3k***).\n",
    "\n",
    "- In addition to this notebook, you will need to download the data from the same directory on GitHub. The file is decision_data.csv.\n",
    "\n",
    "- ***When you are done, save this notebook as HTML (`File -> Download as -> HTML`) and upload it to the matching assignment on UVACollab.***\n",
    "\n",
    "## HINTS\n",
    "\n",
    "- Be sure to comment your code\n",
    "- I have provided cells with general instructions for what they should contain.\n",
    "  "
   ]
  },
  {
   "cell_type": "code",
   "execution_count": 17,
   "metadata": {},
   "outputs": [],
   "source": [
    "# Load in necessary modules\n",
    "%matplotlib inline\n",
    "\n",
    "# import some useful libraries\n",
    "import numpy as np                # numerical analysis linear algebra\n",
    "import pandas as pd               # efficient tables\n",
    "import matplotlib.pyplot as plt   # plotting\n",
    "from scipy import stats\n",
    "\n",
    "# load pieces from RunDEMC\n",
    "from RunDEMC import Model, Param, dists\n",
    "from RunDEMC.pda import PDA\n",
    "\n",
    "from KDEpy import FFTKDE"
   ]
  },
  {
   "cell_type": "code",
   "execution_count": 2,
   "metadata": {},
   "outputs": [],
   "source": [
    "# Read in the data from the decision_data.csv file to a Pandas DataFrame\n",
    "# (This is data from a perceptual decision-making task, BTW)\n",
    "dat = pd.read_csv('decision_data.csv', index_col='Unnamed: 0')\n",
    "\n",
    "# get rid of the neutral condition\n",
    "dat = dat[dat.cond != 'Neutral']\n"
   ]
  },
  {
   "cell_type": "code",
   "execution_count": 3,
   "metadata": {},
   "outputs": [
    {
     "data": {
      "text/html": [
       "<div>\n",
       "<style scoped>\n",
       "    .dataframe tbody tr th:only-of-type {\n",
       "        vertical-align: middle;\n",
       "    }\n",
       "\n",
       "    .dataframe tbody tr th {\n",
       "        vertical-align: top;\n",
       "    }\n",
       "\n",
       "    .dataframe thead th {\n",
       "        text-align: right;\n",
       "    }\n",
       "</style>\n",
       "<table border=\"1\" class=\"dataframe\">\n",
       "  <thead>\n",
       "    <tr style=\"text-align: right;\">\n",
       "      <th></th>\n",
       "      <th>correct</th>\n",
       "      <th>rt</th>\n",
       "      <th>cond</th>\n",
       "      <th>log_rt</th>\n",
       "    </tr>\n",
       "  </thead>\n",
       "  <tbody>\n",
       "    <tr>\n",
       "      <th>3</th>\n",
       "      <td>1</td>\n",
       "      <td>0.4784</td>\n",
       "      <td>Accuracy</td>\n",
       "      <td>-0.737308</td>\n",
       "    </tr>\n",
       "    <tr>\n",
       "      <th>4</th>\n",
       "      <td>1</td>\n",
       "      <td>0.4300</td>\n",
       "      <td>Accuracy</td>\n",
       "      <td>-0.843970</td>\n",
       "    </tr>\n",
       "    <tr>\n",
       "      <th>5</th>\n",
       "      <td>1</td>\n",
       "      <td>0.4486</td>\n",
       "      <td>Accuracy</td>\n",
       "      <td>-0.801624</td>\n",
       "    </tr>\n",
       "    <tr>\n",
       "      <th>6</th>\n",
       "      <td>1</td>\n",
       "      <td>0.3991</td>\n",
       "      <td>Speed</td>\n",
       "      <td>-0.918543</td>\n",
       "    </tr>\n",
       "    <tr>\n",
       "      <th>8</th>\n",
       "      <td>1</td>\n",
       "      <td>0.4393</td>\n",
       "      <td>Accuracy</td>\n",
       "      <td>-0.822573</td>\n",
       "    </tr>\n",
       "  </tbody>\n",
       "</table>\n",
       "</div>"
      ],
      "text/plain": [
       "   correct      rt      cond    log_rt\n",
       "3        1  0.4784  Accuracy -0.737308\n",
       "4        1  0.4300  Accuracy -0.843970\n",
       "5        1  0.4486  Accuracy -0.801624\n",
       "6        1  0.3991     Speed -0.918543\n",
       "8        1  0.4393  Accuracy -0.822573"
      ]
     },
     "execution_count": 3,
     "metadata": {},
     "output_type": "execute_result"
    }
   ],
   "source": [
    "# Use the .head method of the DataFrame to show the first few lines of the file\n",
    "# The columns are:\n",
    "#   correct: whether they made a correct response (1=Correct, 0=Incorrect)\n",
    "#   rt: their reaction time in seconds\n",
    "#   cond: whether they were in a speeded, accuracy, or neutral condition\n",
    "#   log_rt: log-transformed reaction time\n",
    "dat.head(5)"
   ]
  },
  {
   "cell_type": "markdown",
   "metadata": {},
   "source": [
    "## Code for the LBA model (from class)\n",
    "\n",
    "The next few cells instantiate the LBA model and also fit a variant where we allow the threshold ($b$) to change between conditions."
   ]
  },
  {
   "cell_type": "code",
   "execution_count": 4,
   "metadata": {},
   "outputs": [],
   "source": [
    "def lba_sim(I=(1.0,1.5), A=.1, S=1.0, b=1.0, num_sims=1000,\n",
    "            max_time=2., t0=0.0, **kwargs):\n",
    "    # set drift rate from inputs\n",
    "    dr = np.squeeze(np.atleast_1d(I))\n",
    "    \n",
    "    # set the number of choices\n",
    "    nc = len(dr)\n",
    "    \n",
    "    # pick starting points\n",
    "    k = np.random.uniform(0.,A,(num_sims,nc))\n",
    "    \n",
    "    # pick drifts\n",
    "    # must make sure at least one d is greater than zero for each sim\n",
    "    d = np.random.normal(dr,S,(num_sims,nc))\n",
    "    \n",
    "    ## see where there are none above zero\n",
    "    #ind = np.all(d<=0.0,axis=1)\n",
    "    #while np.any(ind):\n",
    "    #    d[ind,:] = np.random.normal(dr,S,(ind.sum(),nc))\n",
    "    #    ind = np.all(d<=0.0,axis=1)\n",
    "\n",
    "    # clip it to avoid divide by zeros\n",
    "    d[d<=0.0] = np.finfo(dr.dtype).eps\n",
    "\n",
    "    # calc the times for each\n",
    "    t = (b-k)/d\n",
    "\n",
    "    # see the earliest for each resp\n",
    "    inds = t.argmin(1)\n",
    "    times = t.take(inds+np.arange(t.shape[0])*t.shape[1])\n",
    "\n",
    "    # process into choices\n",
    "    times += t0\n",
    "\n",
    "    # get valid responses\n",
    "    resp_ind = times < (max_time)\n",
    "    inds[~resp_ind] = -1\n",
    "    times[~resp_ind] = -1\n",
    "    \n",
    "    # make a dataframe\n",
    "    return pd.DataFrame({'correct': inds, 'rt': times})"
   ]
  },
  {
   "cell_type": "code",
   "execution_count": 13,
   "metadata": {},
   "outputs": [],
   "source": [
    "# plotting code\n",
    "# normed histogram\n",
    "def dhist(dat, nsims, alpha=.3, color='b'):\n",
    "    p,b = np.histogram(dat,bins='auto',density=True)\n",
    "    w = b[1]-b[0]\n",
    "    p *= float(len(dat))/nsims\n",
    "    return plt.bar(b[1:]-w,p,width=w,alpha=.3,color=color)\n",
    "\n",
    "# normed pdf\n",
    "xvals = np.linspace(0.1,2.0,100)\n",
    "def dplot(dat, nsims, color='b', lw=2.):\n",
    "    xp, fp = FFTKDE(kernel='gaussian', bw='silverman').fit(dat).evaluate()\n",
    "    p = np.interp(xvals, xp, fp)\n",
    "    p *= float(len(dat))/nsims\n",
    "    plt.plot(xvals, p, color=color, lw=2.)"
   ]
  },
  {
   "cell_type": "markdown",
   "metadata": {},
   "source": [
    "## Threshold change model (from class)"
   ]
  },
  {
   "cell_type": "code",
   "execution_count": 26,
   "metadata": {},
   "outputs": [],
   "source": [
    "# Test change in threshold\n",
    "\n",
    "# set up the params (note the two thresholds, b_A and b_S)\n",
    "min_rt = dat.rt.min()\n",
    "params = [Param(name='d1', prior=dists.trunc_normal(1., 2., 0., 10.)),\n",
    "          Param(name='d2', prior=dists.trunc_normal(1., 2., 0., 10.)),\n",
    "          Param(name='A', prior=dists.trunc_normal(.5, 2.0, 0., 2.0)),\n",
    "          Param(name='b_A', prior=dists.trunc_normal(2.0, 2.0, 0., 5.0)),\n",
    "          Param(name='b_S', prior=dists.trunc_normal(2.0, 2.0, 0., 5.0)),\n",
    "          Param(name='t0', prior=dists.normal(0.0, 1.4), \n",
    "                transform=lambda x: dists.invlogit(x)*min_rt)]\n",
    "\n",
    "# set up PDA\n",
    "pda = PDA(dat.to_records(), cat_var='correct', \n",
    "          cont_var='rt', cond_var='cond')\n",
    "\n",
    "# define the likelihood function\n",
    "nsims = 10000\n",
    "def like_fun(pop, *args):\n",
    "    likes = np.zeros(len(pop))\n",
    "    for i,p in enumerate(pop):\n",
    "        # first check for simple issues\n",
    "        if (p['A'] > p['b_A']) or (p['A'] > p['b_S']) or \\\n",
    "            np.any(np.array(p.tolist())<0):\n",
    "            # A can't be bigger than b\n",
    "            # all params must be at least zero\n",
    "            likes[i] = -np.inf\n",
    "            continue\n",
    "            \n",
    "        # first Accuracy\n",
    "        # run the simulation\n",
    "        resA = lba_sim(I=(p['d1'], p['d2']), A=p['A'], S=1.0, b=p['b_A'], \n",
    "                      num_sims=nsims, max_time=2.0, t0=p['t0'])\n",
    "        \n",
    "        # add the cond column\n",
    "        resA['cond'] = 'Accuracy'\n",
    "        \n",
    "        # then Speed\n",
    "        resS = lba_sim(I=(p['d1'], p['d2']), A=p['A'], S=1.0, b=p['b_S'], \n",
    "                       num_sims=nsims, max_time=2.0, t0=p['t0'])   \n",
    "        \n",
    "        # add the cond column\n",
    "        resS['cond'] = 'Speed'  \n",
    "        \n",
    "        # combine into one dataframe\n",
    "        res = pd.concat([resA, resS], ignore_index=True)\n",
    "        \n",
    "        # calc log like via PDA\n",
    "        likes[i] += pda.calc_log_like(res.to_records())\n",
    "        if likes[i] == -np.inf:\n",
    "            continue\n",
    "        \n",
    "    return likes\n",
    "        \n",
    "# make the model\n",
    "m = Model('decisions_thresh', params=params,\n",
    "          like_fun=like_fun,\n",
    "          #like_args=(dat,),\n",
    "          purify_every=5,\n",
    "          pop_parallel=True, # set this to False if you have trouble on Windows\n",
    "          verbose=True)"
   ]
  },
  {
   "cell_type": "code",
   "execution_count": 27,
   "metadata": {},
   "outputs": [
    {
     "name": "stdout",
     "output_type": "stream",
     "text": [
      "Initializing: 120(120) 48(48) 18(18) 7(7) 4(4) 2(2) \n",
      "Iterations (100):\n"
     ]
    },
    {
     "data": {
      "text/html": [
       "\n",
       "<style>\n",
       "    /* Turns off some styling */\n",
       "    progress {\n",
       "        /* gets rid of default border in Firefox and Opera. */\n",
       "        border: none;\n",
       "        /* Needs to be in here for Safari polyfill so background images work as expected. */\n",
       "        background-size: auto;\n",
       "    }\n",
       "    progress:not([value]), progress:not([value])::-webkit-progress-bar {\n",
       "        background: repeating-linear-gradient(45deg, #7e7e7e, #7e7e7e 10px, #5c5c5c 10px, #5c5c5c 20px);\n",
       "    }\n",
       "    .progress-bar-interrupted, .progress-bar-interrupted::-webkit-progress-bar {\n",
       "        background: #F44336;\n",
       "    }\n",
       "</style>\n"
      ],
      "text/plain": [
       "<IPython.core.display.HTML object>"
      ]
     },
     "metadata": {},
     "output_type": "display_data"
    },
    {
     "data": {
      "text/html": [
       "\n",
       "    <div>\n",
       "      <progress value='100' class='' max='100' style='width:300px; height:20px; vertical-align: middle;'></progress>\n",
       "      100.00% [100/100 03:39&lt;00:00]\n",
       "    </div>\n",
       "    "
      ],
      "text/plain": [
       "<IPython.core.display.HTML object>"
      ]
     },
     "metadata": {},
     "output_type": "display_data"
    }
   ],
   "source": [
    "# only run burnin to get to max likelihood\n",
    "times = m.sample(100, burnin=True)"
   ]
  },
  {
   "cell_type": "markdown",
   "metadata": {},
   "source": [
    "### Make sure the chains have reached max likelihood\n",
    "\n",
    "They should have leveled off and not still be increasing."
   ]
  },
  {
   "cell_type": "code",
   "execution_count": 28,
   "metadata": {},
   "outputs": [
    {
     "data": {
      "image/png": "[encoded data removed]",
      "text/plain": [
       "<Figure size 432x288 with 1 Axes>"
      ]
     },
     "metadata": {
      "needs_background": "light"
     },
     "output_type": "display_data"
    }
   ],
   "source": [
    "plt.plot(m.weights[25:], alpha=.3);"
   ]
  },
  {
   "cell_type": "code",
   "execution_count": 29,
   "metadata": {},
   "outputs": [
    {
     "name": "stdout",
     "output_type": "stream",
     "text": [
      "Best fitting params:\n",
      "Weight: 221.43639910882132\n",
      "\"d1\": 1.574324,\n",
      "\"d2\": 2.627703,\n",
      "\"A\": 0.456150,\n",
      "\"b_A\": 1.273448,\n",
      "\"b_S\": 0.727281,\n",
      "\"t0\": 0.177385,\n",
      "BIC: -403.1603643165393\n"
     ]
    }
   ],
   "source": [
    "print(\"Best fitting params:\")\n",
    "burnin=5\n",
    "best_ind = m.weights[burnin:].argmax()\n",
    "best_weight = m.weights[burnin:].ravel()[best_ind]\n",
    "print(\"Weight:\", best_weight)\n",
    "indiv = [m.particles[burnin:,:,i].ravel()[best_ind] for i in range(m.particles.shape[-1])]\n",
    "pp = {}\n",
    "for p,v in zip(m.param_names,indiv):\n",
    "    pp[p] = v\n",
    "    print('\"%s\": %f,'%(p,v))\n",
    "    \n",
    "# Caclculate bic\n",
    "n = len(dat)\n",
    "k = len(params)\n",
    "L = best_weight\n",
    "bic_thresh = np.log(n)*k - 2*(L)\n",
    "print(\"BIC:\", bic_thresh)"
   ]
  },
  {
   "cell_type": "code",
   "execution_count": 30,
   "metadata": {},
   "outputs": [
    {
     "data": {
      "image/png": "[encoded data removed]",
      "text/plain": [
       "<Figure size 1008x432 with 2 Axes>"
      ]
     },
     "metadata": {
      "needs_background": "light"
     },
     "output_type": "display_data"
    }
   ],
   "source": [
    "# Run sim with best fitting params\n",
    "plt.figure(figsize=(14,6))\n",
    "fig = plt.gcf()\n",
    "ax1 = fig.add_subplot(121)\n",
    "\n",
    "cond = 'Speed'\n",
    "\n",
    "# run the LBA model\n",
    "res = lba_sim(I=(pp['d1'], pp['d2']), A=pp['A'], S=1.0, b=pp['b_'+cond[0]], \n",
    "              num_sims=nsims, max_time=2.0, t0=pp['t0'])\n",
    "\n",
    "# plot the hist of the data, followed by the model PDF line\n",
    "ax = plt.subplot(1,2,1)\n",
    "cdat = dat.loc[dat['cond']==cond]\n",
    "ndat = len(cdat)\n",
    "dhist(np.array(cdat.loc[(cdat['correct']==1), 'rt']), ndat, color='b')\n",
    "dplot(np.array(res.rt[res.correct==1]), nsims, color='b')\n",
    "dhist(np.array(cdat.loc[(cdat['correct']==0), 'rt']), ndat, color='r')\n",
    "dplot(np.array(res.rt[res.correct==0]), nsims, color='r')\n",
    "#ylim(0,5.0)\n",
    "plt.xlabel('RT (s)')\n",
    "plt.xlim(0,2.0)\n",
    "plt.title(cond)\n",
    "\n",
    "cond = 'Accuracy'\n",
    "\n",
    "# run the LBA model\n",
    "res = lba_sim(I=(pp['d1'], pp['d2']), A=pp['A'], S=1.0, b=pp['b_'+cond[0]], \n",
    "              num_sims=nsims, max_time=2.0, t0=pp['t0'])\n",
    "\n",
    "# plot the hist of the data, followed by the model PDF line\n",
    "ax2 = fig.add_subplot(122, sharey=ax1)\n",
    "cdat = dat.loc[dat['cond']==cond]\n",
    "ndat = len(cdat)\n",
    "dhist(np.array(cdat.loc[(cdat['correct']==1), 'rt']), ndat, color='b')\n",
    "dplot(np.array(res.rt[res.correct==1]), nsims, color='b')\n",
    "dhist(np.array(cdat.loc[(cdat['correct']==0), 'rt']), ndat, color='r')\n",
    "dplot(np.array(res.rt[res.correct==0]), nsims, color='r')\n",
    "#ylim(0,5.0)\n",
    "plt.xlabel('RT (s)')\n",
    "plt.xlim(0,2.0)\n",
    "plt.title(cond);"
   ]
  },
  {
   "cell_type": "markdown",
   "metadata": {},
   "source": [
    "## Test scaling of drift rates\n",
    "\n",
    "Now we want to test the hypothesis that, instead of the threshold changing between the Speed and Accuracy conditions, the drift rates are scaled via some form of modulation. \n",
    "\n",
    "To do this, you'll want to copy all the notebook cells starting with the cell after the heading `Threshold Change Model` and make all the *minor* modifications necessary to test this hypothesized model. You'll need to:\n",
    "\n",
    "- Change the parameters so there's just a single threshold\n",
    "- Add a new param to scale the drift rates in one condition (any positive prior that is centered around 1.0 is fine)\n",
    "- Modify the likelihood function to use the single threshold and the new multiplicative scaling term applied to the drift rates of *one* condition (NOT BOTH)\n",
    "\n",
    "Once you've fit the model, use the BIC from the two models to calculate a Bayes Factor and discuss which one fit better. "
   ]
  },
  {
   "cell_type": "code",
   "execution_count": 33,
   "metadata": {},
   "outputs": [],
   "source": [
    "# Test model with scaling of drift rates\n",
    "\n"
   ]
  },
  {
   "cell_type": "code",
   "execution_count": 21,
   "metadata": {},
   "outputs": [
    {
     "name": "stdout",
     "output_type": "stream",
     "text": [
      "Initializing: 120(120) 34(34) 7(7) 2(2) \n",
      "Iterations (100):\n"
     ]
    },
    {
     "data": {
      "text/html": [
       "\n",
       "<style>\n",
       "    /* Turns off some styling */\n",
       "    progress {\n",
       "        /* gets rid of default border in Firefox and Opera. */\n",
       "        border: none;\n",
       "        /* Needs to be in here for Safari polyfill so background images work as expected. */\n",
       "        background-size: auto;\n",
       "    }\n",
       "    progress:not([value]), progress:not([value])::-webkit-progress-bar {\n",
       "        background: repeating-linear-gradient(45deg, #7e7e7e, #7e7e7e 10px, #5c5c5c 10px, #5c5c5c 20px);\n",
       "    }\n",
       "    .progress-bar-interrupted, .progress-bar-interrupted::-webkit-progress-bar {\n",
       "        background: #F44336;\n",
       "    }\n",
       "</style>\n"
      ],
      "text/plain": [
       "<IPython.core.display.HTML object>"
      ]
     },
     "metadata": {},
     "output_type": "display_data"
    },
    {
     "data": {
      "text/html": [
       "\n",
       "    <div>\n",
       "      <progress value='100' class='' max='100' style='width:300px; height:20px; vertical-align: middle;'></progress>\n",
       "      100.00% [100/100 03:42&lt;00:00]\n",
       "    </div>\n",
       "    "
      ],
      "text/plain": [
       "<IPython.core.display.HTML object>"
      ]
     },
     "metadata": {},
     "output_type": "display_data"
    }
   ],
   "source": [
    "# only run burnin to get to max likelihood\n",
    "times = m.sample(100, burnin=True)"
   ]
  },
  {
   "cell_type": "code",
   "execution_count": 32,
   "metadata": {},
   "outputs": [],
   "source": [
    "# extract best-fitting params and BIC\n"
   ]
  },
  {
   "cell_type": "code",
   "execution_count": 31,
   "metadata": {},
   "outputs": [],
   "source": [
    "# Plot the sims with the best-fitting params \n",
    "# (note, you'll need to modify how the sims are run to match the new model)\n",
    "\n"
   ]
  },
  {
   "cell_type": "markdown",
   "metadata": {},
   "source": [
    "## Evaluation\n",
    "\n",
    "***Which model won? Why do you think it was the best-fitting model? Are there other model variants you can think to try?***"
   ]
  },
  {
   "cell_type": "markdown",
   "metadata": {},
   "source": [
    "### Write your short answer here:\n"
   ]
  }
 ],
 "metadata": {
  "kernelspec": {
   "display_name": "Python 3 (ipykernel)",
   "language": "python",
   "name": "python3"
  },
  "language_info": {
   "codemirror_mode": {
    "name": "ipython",
    "version": 3
   },
   "file_extension": ".py",
   "mimetype": "text/x-python",
   "name": "python",
   "nbconvert_exporter": "python",
   "pygments_lexer": "ipython3",
   "version": "3.9.12"
  }
 },
 "nbformat": 4,
 "nbformat_minor": 4
}
