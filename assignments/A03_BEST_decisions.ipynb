{
 "cells": [
  {
   "cell_type": "markdown",
   "metadata": {},
   "source": [
    "# Assignment 3: BEST Decisions\n",
    "## Quantified Cognition\n",
    "### Psychology 5332\n"
   ]
  },
  {
   "cell_type": "markdown",
   "metadata": {},
   "source": [
    "# Name: *Your Name Here*\n",
    "# User ID: *Your ID Here*"
   ]
  },
  {
   "cell_type": "markdown",
   "metadata": {},
   "source": [
    "# Objectives\n",
    "\n",
    "Upon completion of this assignment, the student will demonstrate the ability to:\n",
    "\n",
    "1. Build/Modify a RunDEMC model\n",
    "2. Fit the model to data\n",
    "3. Plot parameter posteriors\n",
    "4. Evaluate model fit results\n"
   ]
  },
  {
   "cell_type": "markdown",
   "metadata": {},
   "source": [
    "# Assignment\n",
    "\n",
    "- The goal of this assignment is to analyze the reaction time data from the perceptual decision-making task we examined in the first assignment. We want to know whether there are reliable differences in RTs (either means or standard deviations) between the speeded, accuracy, or normal conditions. \n",
    "\n",
    "- You will perform this assignment by writing code in *this notebook* (***after making a copy and renaming it to have your userid in the title --- e.g., A03_BEST_decisions_mst3k***).\n",
    "\n",
    "- In addition to this notebook, you will need to download the data from the same directory on GitHub. The file is decision_data.csv.\n",
    "\n",
    "- ***When you are done, save this notebook as HTML (`File -> Download as -> HTML`) and upload it to the matching assignment on UVACollab.***\n",
    "\n",
    "## HINTS\n",
    "\n",
    "- Be sure to comment your code\n",
    "- I have provided cells with general instructions for what they should contain.\n",
    "  "
   ]
  },
  {
   "cell_type": "code",
   "execution_count": null,
   "metadata": {},
   "outputs": [],
   "source": [
    "# Load in necessary modules\n",
    "%matplotlib inline\n",
    "\n",
    "# import some useful libraries\n",
    "import numpy as np                # numerical analysis linear algebra\n",
    "import pandas as pd               # efficient tables\n",
    "import matplotlib.pyplot as plt   # plotting\n",
    "from scipy import stats\n",
    "\n",
    "import arviz as az\n",
    "\n",
    "# load pieces from RunDEMC\n",
    "from RunDEMC import Model, Param, dists\n",
    "from RunDEMC.io import arviz_dict"
   ]
  },
  {
   "cell_type": "code",
   "execution_count": null,
   "metadata": {},
   "outputs": [],
   "source": [
    "# Read in the data from the decision_data.csv file to a Pandas DataFrame\n",
    "# (This is data from a perceptual decision-making task, BTW)\n",
    "df = pd.read_csv('decision_data.csv', index_col='Unnamed: 0')"
   ]
  },
  {
   "cell_type": "code",
   "execution_count": null,
   "metadata": {},
   "outputs": [],
   "source": [
    "# Use the .head method of the DataFrame to show the first few lines of the file\n",
    "# The columns are:\n",
    "#   correct: whether they made a correct response (1=Correct, 0=Incorrect)\n",
    "#   rt: their reaction time in seconds\n",
    "#   cond: whether they were in a speeded, accuracy, or neutral condition\n",
    "#   log_rt: log-transformed reaction time\n",
    "df.head(5)"
   ]
  },
  {
   "cell_type": "markdown",
   "metadata": {},
   "source": [
    "## Bayesian t-test with all three pairwise comparisons\n",
    "\n",
    "We want to test whether there are differences between the log reaction times (`log_rt` column in the data) for *correct* responses in each of the three conditions (`cond` column): Accuracy, Neutral, and Speed.\n",
    "\n",
    "I've pasted in the 2-class independent samples t-test from class. You will need to extend this to three classes. \n",
    "\n",
    "First, you'll need to extract the log RTs for each of the three conditions.\n",
    "\n",
    "Then, you'll need to modify the model code pasted below to fit to one more data (it's currently fitting to A and B dataset, but you need to add a C dataset.)\n",
    "\n",
    "Finally, you'll fit the model to the data and plot posteriors (especially of the differences in posteriors) to assess where there are differences in the means (mu) and standard deviations (sd) between pairs of conditions.\n"
   ]
  },
  {
   "cell_type": "code",
   "execution_count": null,
   "metadata": {},
   "outputs": [],
   "source": [
    "# Make three datasets from df\n",
    "# one for each condition \n",
    "# (like A and B from class, but for all three experimental conditions).\n",
    "\n"
   ]
  },
  {
   "cell_type": "code",
   "execution_count": null,
   "metadata": {},
   "outputs": [],
   "source": [
    "# Build a RunDEMC model to perform an independent samples Bayesian t-test\n",
    "# ***UPDATE THIS MODEL TO HANDLE THREE CONDITIONS***\n",
    "# Define a likelihood function\n",
    "def ind_students_like(pop, *args):\n",
    "    # pull the dat out of the args\n",
    "    datA = args[0]\n",
    "    datB = args[1]\n",
    "    \n",
    "    # instantiate the model with the params, \n",
    "    distA = dists.students_t(pop['mu_A'][:, np.newaxis], \n",
    "                             pop['sigma_A'][:, np.newaxis], \n",
    "                             pop['nu'][:, np.newaxis])\n",
    "    distB = dists.students_t(pop['mu_B'][:, np.newaxis], \n",
    "                             pop['sigma_B'][:, np.newaxis], \n",
    "                             pop['nu'][:, np.newaxis])\n",
    "    \n",
    "    # calc the log like and sum across obs\n",
    "    log_like = np.log(distA.pdf(datA)).sum(1)\n",
    "    log_like += np.log(distB.pdf(datB)).sum(1)\n",
    "    log_like[np.isnan(log_like)] = -np.inf\n",
    "    \n",
    "    # return the log like for each proposal\n",
    "    return log_like\n",
    "\n",
    "# set up the model\n",
    "params = [Param(name='mu_A', prior=dists.normal(overall_mean, overall_std*2.0)),\n",
    "          Param(name='mu_B', prior=dists.normal(overall_mean, overall_std*2.0)),\n",
    "          Param(name='sigma_A', prior=dists.halfcauchy(5)),\n",
    "          Param(name='sigma_B', prior=dists.halfcauchy(5)),\n",
    "          Param(name='nu', prior=dists.exp(1/29.), \n",
    "                transform=lambda x: x + 1,\n",
    "                inv_transform=lambda x: x - 1)]\n",
    "\n",
    "# set up DE\n",
    "m = Model('t-test_ind', \n",
    "          params=params,\n",
    "          like_fun=ind_students_like,\n",
    "          like_args=(A, B),\n",
    "          verbose=True)\n",
    "\n",
    "# run the model, first with some burnin\n",
    "times = m.sample(100, burnin=True)\n",
    "times = m.sample(1600, burnin=False)"
   ]
  },
  {
   "cell_type": "code",
   "execution_count": null,
   "metadata": {},
   "outputs": [],
   "source": [
    "# convert the data to arviz\n"
   ]
  },
  {
   "cell_type": "code",
   "execution_count": null,
   "metadata": {},
   "outputs": [],
   "source": [
    "# show an arviz summary\n"
   ]
  },
  {
   "cell_type": "code",
   "execution_count": null,
   "metadata": {},
   "outputs": [],
   "source": [
    "# plot the traces\n"
   ]
  },
  {
   "cell_type": "code",
   "execution_count": null,
   "metadata": {},
   "outputs": [],
   "source": [
    "# calculate posterior differences\n"
   ]
  },
  {
   "cell_type": "code",
   "execution_count": null,
   "metadata": {},
   "outputs": [],
   "source": [
    "# plot the posterior differences for all possible comparisons of interest\n"
   ]
  },
  {
   "cell_type": "markdown",
   "metadata": {},
   "source": [
    "## Evaluation\n",
    "\n",
    "***Where do we see reliable differences in mean or standard deviation between conditions?***"
   ]
  },
  {
   "cell_type": "markdown",
   "metadata": {},
   "source": [
    "### Write your short answer here:\n"
   ]
  }
 ],
 "metadata": {
  "kernelspec": {
   "display_name": "Python 3 (ipykernel)",
   "language": "python",
   "name": "python3"
  },
  "language_info": {
   "codemirror_mode": {
    "name": "ipython",
    "version": 3
   },
   "file_extension": ".py",
   "mimetype": "text/x-python",
   "name": "python",
   "nbconvert_exporter": "python",
   "pygments_lexer": "ipython3",
   "version": "3.9.12"
  }
 },
 "nbformat": 4,
 "nbformat_minor": 4
}
