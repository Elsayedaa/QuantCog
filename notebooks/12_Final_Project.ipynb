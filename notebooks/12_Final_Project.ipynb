{
 "cells": [
  {
   "cell_type": "markdown",
   "metadata": {
    "slideshow": {
     "slide_type": "slide"
    }
   },
   "source": [
    "# Lesson 12: Final Project\n",
    "\n",
    "## Intro to Quantified Cognition\n",
    "\n",
    "<a href=\"https://colab.research.google.com/github/compmem/QuantCog/blob/2022_Fall/notebooks/12_Final_Project.ipynb\"><img align=\"left\" src=\"https://colab.research.google.com/assets/colab-badge.svg\" alt=\"Open in Colab\" title=\"Open and Execute in Google Colaboratory\"></a>"
   ]
  },
  {
   "cell_type": "markdown",
   "metadata": {
    "slideshow": {
     "slide_type": "slide"
    }
   },
   "source": [
    "## Student Experiences of Teaching (SET)\n",
    "\n",
    "I value your feedback so that I can work to improve this course! \n",
    "\n",
    "Please fill out the evaluations before the close date (which I think is midnight on Dec. 8th).  "
   ]
  },
  {
   "cell_type": "markdown",
   "metadata": {
    "slideshow": {
     "slide_type": "slide"
    }
   },
   "source": [
    "## Final Project\n",
    "\n",
    "- The goal of the final project is to demonstrate some application of some of the modeling tools we've discussed this semester. \n",
    "\n",
    "- Unless you are developing a novel theory, most mechanistic cognitive modeling involves making use of an existing model, which you then may tweak for your needs/hypotheses.\n",
    "\n",
    "- We've covered a handful of different cognitive models this semester, with code included in various Jupyter notebooks along the way, so you have a number of ready-made models at your disposal.\n",
    "\n",
    "- Below I list some options for this final project:"
   ]
  },
  {
   "cell_type": "markdown",
   "metadata": {
    "slideshow": {
     "slide_type": "slide"
    }
   },
   "source": [
    "## General Info\n",
    "\n",
    "- Please turn in the project in the form of a Jupyter notebook, along with any other files I might need to run the notebook. You don't need to send me the data files I provided to you, just if you used your own data/code.\n",
    "\n",
    "- Show all your work and include both code and text cells walking me through what you are doing.\n",
    "\n",
    "- It is due ***Friday, December 16th, 2022 at 5:00 PM***. I selected this date because it's the day and time of the last final during the exam period (our actual final time is a week earlier, so I figured you wouldn't want me to use that day), and I need to have final grades submitted within the next day and a half.\n",
    "\n",
    "- I will be available for meetings from now until it is due. Please message me on discord me to schedule one."
   ]
  },
  {
   "cell_type": "markdown",
   "metadata": {
    "slideshow": {
     "slide_type": "slide"
    }
   },
   "source": [
    "## Option 0: Some analysis of your own data\n",
    "\n",
    "Many of you have datasets from your own research. Your project would entail performing some form of Bayesian or cognitive model-based analysis of those data. \n",
    "\n",
    "*Please meet with me to get approval for the project.*\n",
    "\n",
    "You must include the following:\n",
    "\n",
    "- A short intro (a couple sentences) explaining the question you'll be asking (to frame the analysis)\n",
    "- Test some alternative model variants\n",
    "- Some form of model comparison (via Bayes Factor, BPIC, WAIC, etc...)\n",
    "- Show model fit (at least best-fitting params, but potentially posterior predictives)\n",
    "- Summary of findings"
   ]
  },
  {
   "cell_type": "markdown",
   "metadata": {
    "slideshow": {
     "slide_type": "slide"
    }
   },
   "source": [
    "## Option 1: Generating Model Contest\n",
    "\n",
    "Very often we have some data and our goal is to identify what model might have generated those data. Starns et al. (2019) provided a facinating example of this when they had a handful of researchers attempt to infer the generating processes of known data, revealing large variability in experts’ judgments on the same data (https://journals.sagepub.com/doi/10.1177/2515245919869583).\n",
    "\n",
    "For this project, I have generated three sets of data with three different decision models: WFPT, TRDM, and LBA. \n",
    "\n",
    "Your job is to fit models (and model varariants with and without some params free, such as between-trial variability in drift rate) to identify what models (and parameter values, as best fits or posteriors) were used to generate each set of data.\n",
    "\n",
    "This will require model comparison, via some method of your choosing (Bayes Factor, BPIC, WAIC, etc...).\n",
    "\n",
    "In your report, make it clear each model variant you are testing, what model you think generated each dataset (along with the posteriors or best-fitting parameters) for that model, and what evidence you are using to make your claim for the each winning model."
   ]
  },
  {
   "cell_type": "markdown",
   "metadata": {
    "slideshow": {
     "slide_type": "slide"
    }
   },
   "source": [
    "## Option 2: Flanker Analysis\n",
    "\n",
    "While there have been full models of cognitive control proposed to account for the dynamics of the decision process in congruent vs. incongruent conditions, insight can be gained by fitting to these two conditions separately with a standard decision-making model.\n",
    "\n",
    "- Fit the WFPT, TRDM, or LBA model separately to the incongruent and congruent trials from the flanker task.\n",
    "- Decide what parameters should be kept constant between the two conditions and what parameters should be allowed to change.\n",
    "- Justify this decision (perhaps even via a model comparison).\n",
    "- Show fits of the best-fitting parameters (or posterior predictives) to the data.\n",
    "- Show full posteriors for the parameters and discuss whether they make sense.\n"
   ]
  },
  {
   "cell_type": "markdown",
   "metadata": {
    "slideshow": {
     "slide_type": "slide"
    }
   },
   "source": [
    "## Option 3: Apply the Successor Representation model to a new RL Problem\n",
    "\n",
    "In class we applied the successor representation (SR) to the Frozen Lake example provided by the AI Gymnasium.\n",
    "\n",
    "For this option, your task would be to apply the SR to an RL problem that we did not already solve. Some options would be:\n",
    "\n",
    "- Another one of the text-based environments on the AI Gymnasium: https://gymnasium.farama.org/environments/toy_text/\n",
    "  The reason to use the text-based environments is that they have lower numbers of states that do not require deep convolutional networks to define. \n",
    "  \n",
    "- Some other problem that you propose. I'm happy to work with you to decide on another problem you'd like to apply the SR (or some other RL-model) to solve.\n",
    "\n",
    "In your write-up, be sure to clearly define your problem, how you assessed model performance (e.g., reward earned for each game, number of trials to learn, etc...), describe what changes you had to make to the parameters to attain the performance you did, and, optionally, explore the effect different model parameters have on performance."
   ]
  },
  {
   "cell_type": "markdown",
   "metadata": {},
   "source": [
    "## Option 4: Develop and test a Multi-Scale Successor Representation model\n",
    "\n",
    "Recent work has extended the standard successor representation to operate over multiple scales (Momennejad, I., and Howard M.W., 2018; https://www.biorxiv.org/content/10.1101/449470v1).\n",
    "\n",
    "The primary insight is that if you learn multiple SR matrices at different values of discount factor $\\gamma$, then you can reconstruct the\n",
    "sequence of expected future states following a given starting state. Here is what that would look like for a grid world:\n",
    "\n",
    "![](figs/MSSR.png)\n",
    "\n",
    "For this option, you would need to meet with me to discuss the model in more detail and I would provide you with code to pick the different values of $\\gamma$ and to perform the inverse transform necessary to *reconstruct the sequence of future states*. You would then need to update the SR code to learn multiple SRs and not just one for each action. You will also need to update the policy to make use of the new multi-scale SR.\n",
    "\n",
    "You would then assess the model by recreating a visualization like above for the Frozen Lake task, and test whether the model can solve the problem as well as with the single SR."
   ]
  },
  {
   "cell_type": "markdown",
   "metadata": {
    "slideshow": {
     "slide_type": "slide"
    }
   },
   "source": [
    "## Option 5: Explore TCM or SAM variants for the CatCR or FR tasks\n",
    "\n",
    "For the examples in class, I presented one model variant of a Temporal Context Model (TCM) applied to the categorical continuous recognition (CatCR) and free recall (FR) data. We also discussed the Search of Associative Memory (SAM) model to free recall. There are a number of valid model variants that may or may not provide a better fit to the observed data.\n",
    "\n",
    "For this option, you would explore some of those model variants and perform a model comparison on one subject (e.g., Subject 10 in the CatCR data) that showed the interesting trend in the data we saw across participants. Some options include:\n",
    "\n",
    "- Changing how the sources of memory strength are calculated.\n",
    "- Trying variants of how distinctiveness is calculated.\n",
    "- Adding in a WFPT, TRDM, or LBA decision rule to replace the softmax (if you choose this one, it would be the only model you have to try, but bonus for comparing different choice/RT decision rules!)\n",
    "- Changing how SAM forms associations or retrieves items to improve contiguity.\n",
    "\n",
    "I will gladly meet with you to discuss interesting model variants to try out.\n",
    "\n",
    "In your write-up, be sure to describe the motivation for each model variant (i.e., what is the explicit mechanistic hypothesis you are testing?), and, where applicable, perform model comparisons. Include fits to the actual data (best-fitting parameters are fine, given that this model is slower to run.) "
   ]
  },
  {
   "cell_type": "markdown",
   "metadata": {
    "slideshow": {
     "slide_type": "slide"
    }
   },
   "source": [
    "## Datasets\n",
    "\n",
    "The cells below illustrate how to read in the contest and flanker datasets."
   ]
  },
  {
   "cell_type": "code",
   "execution_count": 1,
   "metadata": {},
   "outputs": [],
   "source": [
    "# load matplotlib inline mode\n",
    "%matplotlib inline\n",
    "\n",
    "# import some useful libraries\n",
    "import numpy as np                # numerical analysis linear algebra\n",
    "import pandas as pd               # efficient tables\n",
    "import matplotlib.pyplot as plt   # plotting\n",
    "\n",
    "def dhist(dat, nsims, alpha=.3, color='b'):\n",
    "    p,b = np.histogram(dat,bins='auto',density=True)\n",
    "    w = b[1]-b[0]\n",
    "    p *= float(len(dat))/nsims\n",
    "    return plt.bar(b[1:]-w,p,width=w,alpha=.3,color=color)\n"
   ]
  },
  {
   "cell_type": "markdown",
   "metadata": {
    "slideshow": {
     "slide_type": "slide"
    }
   },
   "source": [
    "### Contest data\n",
    "\n",
    "There are three dataset files: `contest_data_01.csv`, `contest_data_02.csv`, and `contest_data_03.csv`.\n",
    "\n",
    "When I simulated the models to generate the data, I set the `max_time=5.0`, so you can use that value for all your model fits."
   ]
  },
  {
   "cell_type": "code",
   "execution_count": 2,
   "metadata": {},
   "outputs": [
    {
     "data": {
      "image/png": "[encoded data removed]",
      "text/plain": [
       "<Figure size 864x288 with 3 Axes>"
      ]
     },
     "metadata": {
      "needs_background": "light"
     },
     "output_type": "display_data"
    }
   ],
   "source": [
    "plt.figure(figsize=(12, 4))\n",
    "for d in range(3):\n",
    "    plt.subplot(1, 3, d+1)\n",
    "    dat = pd.read_csv('contest_data_%02d.csv'%(d+1), index_col='Unnamed: 0')\n",
    "    dhist(dat.loc[dat.correct==1, 'rt'], len(dat))\n",
    "    dhist(dat.loc[dat.correct==0, 'rt'], len(dat), color='r')\n",
    "    plt.xlabel('Reaction Time (s)')\n",
    "    plt.title('Dataset %d' % (d+1))"
   ]
  },
  {
   "cell_type": "markdown",
   "metadata": {
    "slideshow": {
     "slide_type": "slide"
    }
   },
   "source": [
    "### Flanker data\n",
    "\n",
    "These data are a from a single subject performing a standard flanker task. The `cond` column indicates whether the trial was congruent (`+`) or incongruent (`-`). "
   ]
  },
  {
   "cell_type": "code",
   "execution_count": 3,
   "metadata": {},
   "outputs": [
    {
     "data": {
      "text/html": [
       "<div>\n",
       "<style scoped>\n",
       "    .dataframe tbody tr th:only-of-type {\n",
       "        vertical-align: middle;\n",
       "    }\n",
       "\n",
       "    .dataframe tbody tr th {\n",
       "        vertical-align: top;\n",
       "    }\n",
       "\n",
       "    .dataframe thead th {\n",
       "        text-align: right;\n",
       "    }\n",
       "</style>\n",
       "<table border=\"1\" class=\"dataframe\">\n",
       "  <thead>\n",
       "    <tr style=\"text-align: right;\">\n",
       "      <th></th>\n",
       "      <th>cond</th>\n",
       "      <th>correct</th>\n",
       "      <th>rt</th>\n",
       "      <th>trial</th>\n",
       "    </tr>\n",
       "  </thead>\n",
       "  <tbody>\n",
       "    <tr>\n",
       "      <th>1</th>\n",
       "      <td>-</td>\n",
       "      <td>True</td>\n",
       "      <td>0.911576</td>\n",
       "      <td>1</td>\n",
       "    </tr>\n",
       "    <tr>\n",
       "      <th>2</th>\n",
       "      <td>-</td>\n",
       "      <td>True</td>\n",
       "      <td>0.512677</td>\n",
       "      <td>2</td>\n",
       "    </tr>\n",
       "    <tr>\n",
       "      <th>3</th>\n",
       "      <td>-</td>\n",
       "      <td>True</td>\n",
       "      <td>0.584308</td>\n",
       "      <td>3</td>\n",
       "    </tr>\n",
       "    <tr>\n",
       "      <th>4</th>\n",
       "      <td>+</td>\n",
       "      <td>True</td>\n",
       "      <td>0.461280</td>\n",
       "      <td>4</td>\n",
       "    </tr>\n",
       "    <tr>\n",
       "      <th>7</th>\n",
       "      <td>+</td>\n",
       "      <td>True</td>\n",
       "      <td>0.697124</td>\n",
       "      <td>5</td>\n",
       "    </tr>\n",
       "  </tbody>\n",
       "</table>\n",
       "</div>"
      ],
      "text/plain": [
       "  cond  correct        rt  trial\n",
       "1    -     True  0.911576      1\n",
       "2    -     True  0.512677      2\n",
       "3    -     True  0.584308      3\n",
       "4    +     True  0.461280      4\n",
       "7    +     True  0.697124      5"
      ]
     },
     "execution_count": 3,
     "metadata": {},
     "output_type": "execute_result"
    }
   ],
   "source": [
    "dat = pd.read_csv('flanker_s1.csv', index_col='Unnamed: 0')\n",
    "dat.head()"
   ]
  },
  {
   "cell_type": "code",
   "execution_count": 4,
   "metadata": {},
   "outputs": [
    {
     "data": {
      "text/plain": [
       "Text(0.5, 1.0, 'Incongruent')"
      ]
     },
     "execution_count": 4,
     "metadata": {},
     "output_type": "execute_result"
    },
    {
     "data": {
      "image/png": "[encoded data removed]",
      "text/plain": [
       "<Figure size 576x288 with 2 Axes>"
      ]
     },
     "metadata": {
      "needs_background": "light"
     },
     "output_type": "display_data"
    }
   ],
   "source": [
    "plt.figure(figsize=(8, 4))\n",
    "plt.subplot(1, 2, 1)\n",
    "dhist(dat.loc[(dat.cond=='+')&(dat.correct==1), 'rt'], (dat.cond=='+').sum())\n",
    "dhist(dat.loc[(dat.cond=='+')&(dat.correct==0), 'rt'], \n",
    "      (dat.cond=='+').sum(), color='r')\n",
    "plt.xlabel('Reaction Time (s)')\n",
    "plt.title('Congruent')\n",
    "\n",
    "plt.subplot(1, 2, 2)\n",
    "dhist(dat.loc[(dat.cond=='-')&(dat.correct==1), 'rt'], (dat.cond=='-').sum())\n",
    "dhist(dat.loc[(dat.cond=='-')&(dat.correct==0), 'rt'], \n",
    "      (dat.cond=='-').sum(), color='r')\n",
    "plt.xlabel('Reaction Time (s)')\n",
    "plt.title('Incongruent')"
   ]
  },
  {
   "cell_type": "code",
   "execution_count": null,
   "metadata": {},
   "outputs": [],
   "source": []
  }
 ],
 "metadata": {
  "celltoolbar": "Slideshow",
  "kernelspec": {
   "display_name": "Python 3 (ipykernel)",
   "language": "python",
   "name": "python3"
  },
  "language_info": {
   "codemirror_mode": {
    "name": "ipython",
    "version": 3
   },
   "file_extension": ".py",
   "mimetype": "text/x-python",
   "name": "python",
   "nbconvert_exporter": "python",
   "pygments_lexer": "ipython3",
   "version": "3.9.12"
  },
  "rise": {
   "scroll": true
  }
 },
 "nbformat": 4,
 "nbformat_minor": 2
}
